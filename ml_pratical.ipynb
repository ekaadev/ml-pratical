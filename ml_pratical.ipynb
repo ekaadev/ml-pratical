{
  "nbformat": 4,
  "nbformat_minor": 0,
  "metadata": {
    "colab": {
      "provenance": [],
      "authorship_tag": "ABX9TyOEKwWAp8vi12HXwDwejPGk",
      "include_colab_link": true
    },
    "kernelspec": {
      "name": "python3",
      "display_name": "Python 3"
    },
    "language_info": {
      "name": "python"
    }
  },
  "cells": [
    {
      "cell_type": "markdown",
      "metadata": {
        "id": "view-in-github",
        "colab_type": "text"
      },
      "source": [
        "<a href=\"https://colab.research.google.com/github/ekaadev/ml-pratical/blob/main/ml_pratical.ipynb\" target=\"_parent\"><img src=\"https://colab.research.google.com/assets/colab-badge.svg\" alt=\"Open In Colab\"/></a>"
      ]
    },
    {
      "cell_type": "markdown",
      "source": [],
      "metadata": {
        "id": "e0RnULEG-P2S"
      }
    },
    {
      "cell_type": "markdown",
      "source": [
        "# Machine Learning Tutorial - Feature Engineering and Feature Selection For Beginners\n",
        "\n",
        "## Handle Missing Data\n",
        "\n",
        "Handel data yang kosong atau tidak ada adalah cara yang sangat penting, alasannya beberapa algoritma machine learning tidak mendukung untuk nilai yang kosong/tidak ada.\n",
        "\n",
        "Beberapa nilai kosong yang dapat kita temui di sebuah dataset:\n",
        "- N/A\n",
        "- null\n",
        "- Empty\n",
        "- ?\n",
        "- none\n",
        "- empty\n",
        "- -\n",
        "- NaN\n"
      ],
      "metadata": {
        "id": "-a99I8EG-RE5"
      }
    },
    {
      "cell_type": "code",
      "execution_count": 2,
      "metadata": {
        "colab": {
          "base_uri": "https://localhost:8080/"
        },
        "id": "OQaidx8emE84",
        "outputId": "3e7ce000-a47a-4e56-e278-804f8c1eddb8"
      },
      "outputs": [
        {
          "output_type": "stream",
          "name": "stdout",
          "text": [
            "Path to dataset files: /root/.cache/kagglehub/datasets/gauravduttakiit/weather-in-aus/versions/1\n"
          ]
        }
      ],
      "source": [
        "# get data  from kagglehub api\n",
        "\n",
        "import kagglehub\n",
        "\n",
        "# Download latest version\n",
        "path = kagglehub.dataset_download(\"gauravduttakiit/weather-in-aus\")\n",
        "\n",
        "print(\"Path to dataset files:\", path)"
      ]
    },
    {
      "cell_type": "markdown",
      "source": [],
      "metadata": {
        "id": "4dMuMCCy_GST"
      }
    },
    {
      "cell_type": "markdown",
      "source": [
        "### Variable Delection\n",
        "\n",
        "Variable delection adalah metode yang digunakan untuk menghapus variable(kolom) yang memiliki mising value."
      ],
      "metadata": {
        "id": "aHwm1wr7_JFu"
      }
    },
    {
      "cell_type": "code",
      "source": [
        "# variable delection\n",
        "\n",
        "# import necessary package\n",
        "# import pandas to visullization data\n",
        "import pandas as pd\n",
        "# import numpy\n",
        "import numpy as np\n",
        "\n",
        "# read data\n",
        "df = pd.read_csv(\"/root/.cache/kagglehub/datasets/gauravduttakiit/weather-in-aus/versions/1/weatherAUS.csv\")\n",
        "\n",
        "# set threshold\n",
        "threshold = 0.5\n",
        "\n",
        "# droping coloumns with missing value rate higher than threshold\n",
        "df = df[df.columns[df.isnull().mean() < threshold]]\n",
        "\n",
        "print(df.shape)"
      ],
      "metadata": {
        "colab": {
          "base_uri": "https://localhost:8080/"
        },
        "id": "nybzJjY7mduv",
        "outputId": "3129b025-66ee-4577-fc3d-5265b6db05bb"
      },
      "execution_count": 44,
      "outputs": [
        {
          "output_type": "stream",
          "name": "stdout",
          "text": [
            "(142193, 24)\n",
            "         Date Location  MinTemp  MaxTemp  Rainfall  Evaporation  Sunshine  \\\n",
            "0  2008-12-01   Albury     13.4     22.9       0.6          NaN       NaN   \n",
            "1  2008-12-02   Albury      7.4     25.1       0.0          NaN       NaN   \n",
            "2  2008-12-03   Albury     12.9     25.7       0.0          NaN       NaN   \n",
            "3  2008-12-04   Albury      9.2     28.0       0.0          NaN       NaN   \n",
            "4  2008-12-05   Albury     17.5     32.3       1.0          NaN       NaN   \n",
            "\n",
            "  WindGustDir  WindGustSpeed WindDir9am  ... Humidity3pm  Pressure9am  \\\n",
            "0           W           44.0          W  ...        22.0       1007.7   \n",
            "1         WNW           44.0        NNW  ...        25.0       1010.6   \n",
            "2         WSW           46.0          W  ...        30.0       1007.6   \n",
            "3          NE           24.0         SE  ...        16.0       1017.6   \n",
            "4           W           41.0        ENE  ...        33.0       1010.8   \n",
            "\n",
            "   Pressure3pm  Cloud9am  Cloud3pm  Temp9am  Temp3pm  RainToday  RISK_MM  \\\n",
            "0       1007.1       8.0       NaN     16.9     21.8         No      0.0   \n",
            "1       1007.8       NaN       NaN     17.2     24.3         No      0.0   \n",
            "2       1008.7       NaN       2.0     21.0     23.2         No      0.0   \n",
            "3       1012.8       NaN       NaN     18.1     26.5         No      1.0   \n",
            "4       1006.0       7.0       8.0     17.8     29.7         No      0.2   \n",
            "\n",
            "   RainTomorrow  \n",
            "0            No  \n",
            "1            No  \n",
            "2            No  \n",
            "3            No  \n",
            "4            No  \n",
            "\n",
            "[5 rows x 24 columns]\n"
          ]
        }
      ]
    },
    {
      "cell_type": "code",
      "source": [
        "print(df.head())"
      ],
      "metadata": {
        "colab": {
          "base_uri": "https://localhost:8080/"
        },
        "id": "JByGgn2JqC8z",
        "outputId": "e0e5de50-e61b-4919-ee6f-ceac0a40c130"
      },
      "execution_count": 14,
      "outputs": [
        {
          "output_type": "stream",
          "name": "stdout",
          "text": [
            "         Date Location  MinTemp  MaxTemp  Rainfall  Evaporation  Sunshine  \\\n",
            "0  2008-12-01   Albury     13.4     22.9       0.6          NaN       NaN   \n",
            "1  2008-12-02   Albury      7.4     25.1       0.0          NaN       NaN   \n",
            "2  2008-12-03   Albury     12.9     25.7       0.0          NaN       NaN   \n",
            "3  2008-12-04   Albury      9.2     28.0       0.0          NaN       NaN   \n",
            "4  2008-12-05   Albury     17.5     32.3       1.0          NaN       NaN   \n",
            "\n",
            "  WindGustDir  WindGustSpeed WindDir9am  ... Humidity3pm  Pressure9am  \\\n",
            "0           W           44.0          W  ...        22.0       1007.7   \n",
            "1         WNW           44.0        NNW  ...        25.0       1010.6   \n",
            "2         WSW           46.0          W  ...        30.0       1007.6   \n",
            "3          NE           24.0         SE  ...        16.0       1017.6   \n",
            "4           W           41.0        ENE  ...        33.0       1010.8   \n",
            "\n",
            "   Pressure3pm  Cloud9am  Cloud3pm  Temp9am  Temp3pm  RainToday  RISK_MM  \\\n",
            "0       1007.1       8.0       NaN     16.9     21.8         No      0.0   \n",
            "1       1007.8       NaN       NaN     17.2     24.3         No      0.0   \n",
            "2       1008.7       NaN       2.0     21.0     23.2         No      0.0   \n",
            "3       1012.8       NaN       NaN     18.1     26.5         No      1.0   \n",
            "4       1006.0       7.0       8.0     17.8     29.7         No      0.2   \n",
            "\n",
            "   RainTomorrow  \n",
            "0            No  \n",
            "1            No  \n",
            "2            No  \n",
            "3            No  \n",
            "4            No  \n",
            "\n",
            "[5 rows x 24 columns]\n"
          ]
        }
      ]
    },
    {
      "cell_type": "markdown",
      "source": [
        "### Mean or Median Imputation\n",
        "\n",
        "Teknik yang digunakan untuk mengisi value yang tidak ada dengan nilai mean/rata-rata atau median/nilai tengah.\n"
      ],
      "metadata": {
        "id": "puZWmhMnCN9x"
      }
    },
    {
      "cell_type": "markdown",
      "source": [],
      "metadata": {
        "id": "vaTfIvoUCmus"
      }
    },
    {
      "cell_type": "code",
      "source": [
        "# mean or median imputation\n",
        "\n",
        "# fill missing data with median if the data is numeric\n",
        "# df = df.fillna(df.median())"
      ],
      "metadata": {
        "id": "F0YLJIIAo4Fa"
      },
      "execution_count": 12,
      "outputs": []
    },
    {
      "cell_type": "markdown",
      "source": [
        "### Most Common Value\n",
        "\n",
        "Metode yang digunakan untuk mengganti value yang kosong/tidak ada degnan nilai maksimum yang tampil pada sebuah kolom/variabel/feature. dari sebuah dataset. Metode ini sangat cocok untuk menghandel kolom kategorial"
      ],
      "metadata": {
        "id": "0qP6Ed7QC-nm"
      }
    },
    {
      "cell_type": "code",
      "source": [
        "# most common value\n",
        "\n",
        "# fill missing data with maximum occured value\n",
        "# this method good for handling categorial column\n",
        "df = df['MaxTemp'].fillna(df['MaxTemp'].value_counts().idxmax())"
      ],
      "metadata": {
        "id": "9yA8-VnjpeHV"
      },
      "execution_count": 15,
      "outputs": []
    },
    {
      "cell_type": "markdown",
      "source": [
        "## Handle Continuous Features\n",
        "\n",
        "Continuoes Feature adalah perbdaan jarak pada sebuah nilai di dataset. Jika melatih model dengan jarak yang jauh berbeda, model tersebut tidak menunjukkan peforma yang paling baik."
      ],
      "metadata": {
        "id": "-Jw0hLGTDHnL"
      }
    },
    {
      "cell_type": "markdown",
      "source": [
        "### Min Max Normalization\n",
        "Salah satu metodenya adalah Min Max Normalization. Min Max Normalization bekerja dengan cara mengurangi minimum value di sebuah fitur dan membaginya dengan jarak. Jarak disini adalah nilai maksimal dikurangi nilai minimum pada sebuah fitur."
      ],
      "metadata": {
        "id": "GhfJegGND0AO"
      }
    },
    {
      "cell_type": "code",
      "source": [
        "# min max normalization\n",
        "\n",
        "# import minmaxscaler from sklearn to norm data\n",
        "from sklearn.preprocessing import MinMaxScaler\n",
        "# import numpy\n",
        "import numpy as np\n",
        "\n",
        "# 4 sample and 2 feature/vairbles\n",
        "data = np.array([[4,6], [11,34], [10, 17], [1, 5]])\n",
        "\n",
        "# create scaler method\n",
        "scaler = MinMaxScaler(feature_range=(0,1))\n",
        "\n",
        "# fit and transform data\n",
        "scaled_data = scaler.fit_transform(data)\n",
        "\n",
        "print(scaled_data)"
      ],
      "metadata": {
        "colab": {
          "base_uri": "https://localhost:8080/"
        },
        "id": "SlTviIbtrmaY",
        "outputId": "e5f25602-5266-448d-a08f-56b15a83bd4f"
      },
      "execution_count": 17,
      "outputs": [
        {
          "output_type": "stream",
          "name": "stdout",
          "text": [
            "[[0.3        0.03448276]\n",
            " [1.         1.        ]\n",
            " [0.9        0.4137931 ]\n",
            " [0.         0.        ]]\n"
          ]
        }
      ]
    },
    {
      "cell_type": "markdown",
      "source": [
        "### Standardization\n",
        "\n",
        "Standardization yaitu metode yang memastikan setiap fiturnya memiliki rata rata 0 dan standar devisiasinya 1."
      ],
      "metadata": {
        "id": "JjSiY8esEnT9"
      }
    },
    {
      "cell_type": "code",
      "source": [
        "# standarization\n",
        "\n",
        "from sklearn.preprocessing import StandardScaler\n",
        "import numpy as np\n",
        "\n",
        "data = np.array([[4,1], [11,1], [10,4], [1,11]])\n",
        "\n",
        "# create method standarscaler\n",
        "scaler = StandardScaler()\n",
        "\n",
        "scaled_data = scaler.fit_transform(data)\n",
        "\n",
        "print(scaled_data)\n",
        "\n",
        "# verify mean and deviation\n",
        "print(scaled_data.mean(axis=0))\n",
        "print(scaled_data.std(axis=0))"
      ],
      "metadata": {
        "colab": {
          "base_uri": "https://localhost:8080/"
        },
        "id": "nlXIiGN1uGln",
        "outputId": "0ce62876-0714-46d7-a8bd-ac0447f8d8f8"
      },
      "execution_count": 22,
      "outputs": [
        {
          "output_type": "stream",
          "name": "stdout",
          "text": [
            "[[-0.60192927 -0.79558708]\n",
            " [ 1.08347268 -0.79558708]\n",
            " [ 0.84270097 -0.06119901]\n",
            " [-1.32424438  1.65237317]]\n",
            "[0. 0.]\n",
            "[1. 1.]\n"
          ]
        }
      ]
    },
    {
      "cell_type": "markdown",
      "source": [
        "## Handle Categorical Features\n",
        "\n",
        "Fitur/Kolom Categorial adalah jenis data yang merepresentasikan data yang memungkinakan membagi datanya pada sebuah grup. Beberapa contohnya seperti gender, level pendidikan.\n",
        "\n",
        "Data non-numerik perlu di konversi ke dalam nilai numerik seperti integer atau float agar dapat di utility/digunakan oleh beberapa machine learning library."
      ],
      "metadata": {
        "id": "o_Te48oIE6ZZ"
      }
    },
    {
      "cell_type": "markdown",
      "source": [
        "### Label Encoding\n",
        "Label encoding secara sederhana yaitu mengkonversi setiap categorial value pada kolom menjad angka/number."
      ],
      "metadata": {
        "id": "w5ffPS0UFw8L"
      }
    },
    {
      "cell_type": "code",
      "source": [
        "# label encoding\n",
        "\n",
        "import numpy as np\n",
        "import pandas as pd\n",
        "from sklearn.preprocessing import LabelEncoder\n",
        "\n",
        "data = {\n",
        "        'Gender':['male', 'female', 'female', 'male','male'],\n",
        "        'Country':['Tanzania','Kenya', 'Tanzania', 'Tanzania','Kenya']\n",
        "        }\n",
        "\n",
        "data = pd.DataFrame(data)\n",
        "\n",
        "# create label encoder\n",
        "le = LabelEncoder()\n",
        "\n",
        "data['Gender'] = le.fit_transform(data['Gender'])\n",
        "data['Country'] = le.fit_transform(data['Country'])\n",
        "\n",
        "print(data)"
      ],
      "metadata": {
        "colab": {
          "base_uri": "https://localhost:8080/"
        },
        "id": "35qYRB5Bvj-d",
        "outputId": "2843f37e-bb27-48b6-94c5-8db0b114caea"
      },
      "execution_count": 26,
      "outputs": [
        {
          "output_type": "stream",
          "name": "stdout",
          "text": [
            "   Gender  Country\n",
            "0       1        1\n",
            "1       0        0\n",
            "2       0        1\n",
            "3       1        1\n",
            "4       1        0\n"
          ]
        }
      ]
    },
    {
      "cell_type": "markdown",
      "source": [
        "### One-hot-encoding\n",
        "\n",
        "Meotde yang biasa digunakan untuk merepresentasikan categorial variable menggunakan one hot encoding, atau one out of n encoding atau biasa dikenal sebagai dummy variabel."
      ],
      "metadata": {
        "id": "eL2zyVzIGDlJ"
      }
    },
    {
      "cell_type": "code",
      "source": [
        "# one hot encoding\n",
        "\n",
        "import numpy as np\n",
        "from sklearn.preprocessing import OneHotEncoder, LabelEncoder\n",
        "\n",
        "data = np.array(['cold', 'cold', 'warm', 'cold', 'hot', 'hot', 'warm', 'cold', 'warm', 'hot'])\n",
        "\n",
        "# integer encode\n",
        "label_encoder = LabelEncoder()\n",
        "\n",
        "integer_encoded = label_encoder.fit_transform(data)\n",
        "\n",
        "print(integer_encoded)\n",
        "\n",
        "# onehot encoder\n",
        "onehot_encoder = OneHotEncoder(sparse_output=False)\n",
        "\n",
        "# reshape data\n",
        "integer_encoded = integer_encoded.reshape(len(integer_encoded), 1)\n",
        "\n",
        "onehot_encoder = onehot_encoder.fit_transform(integer_encoded)\n",
        "\n",
        "print(onehot_encoder)"
      ],
      "metadata": {
        "colab": {
          "base_uri": "https://localhost:8080/"
        },
        "id": "q-YjdVlgzpuS",
        "outputId": "89aa7863-0c3c-455f-814a-fb32a360ed10"
      },
      "execution_count": 30,
      "outputs": [
        {
          "output_type": "stream",
          "name": "stdout",
          "text": [
            "[0 0 2 0 1 1 2 0 2 1]\n",
            "[[1. 0. 0.]\n",
            " [1. 0. 0.]\n",
            " [0. 0. 1.]\n",
            " [1. 0. 0.]\n",
            " [0. 1. 0.]\n",
            " [0. 1. 0.]\n",
            " [0. 0. 1.]\n",
            " [1. 0. 0.]\n",
            " [0. 0. 1.]\n",
            " [0. 1. 0.]]\n"
          ]
        }
      ]
    },
    {
      "cell_type": "markdown",
      "source": [
        "## Feature Selection\n",
        "Sebuah proses yang dimana menjalankan secara otomatis atau manual untuk memiliki fitur/variable yang memiliki kontribusi paling besar untuk memprediksi output.\n",
        "\n",
        "### Reason to use feature selection (alasan)\n",
        "- Dapat melatih algoritma machine learning dengan lebih cepat\n",
        "- mengurangi kompleksitas pada model dan lebih mudah menerjemahkan\n",
        "- meningkatkan akurasi\n",
        "- mengurangi overfitting"
      ],
      "metadata": {
        "id": "bci2P7bcGpar"
      }
    },
    {
      "cell_type": "markdown",
      "source": [
        "### Univariate Selection\n",
        "\n",
        "Metode yang membantu menyeleksi fitur yang independen dan memiliki relasi dengan target fitu pada sebuah dataset."
      ],
      "metadata": {
        "id": "zNzk__a9HMVm"
      }
    },
    {
      "cell_type": "code",
      "source": [
        "# univariate selection\n",
        "\n",
        "# load package\n",
        "from sklearn.datasets import load_iris\n",
        "from sklearn.feature_selection import SelectKBest\n",
        "from sklearn.feature_selection import chi2\n",
        "\n",
        "# laod iris data\n",
        "iris_dataset = load_iris()\n",
        "\n",
        "# create feature and target\n",
        "x = iris_dataset.data\n",
        "y = iris_dataset.target\n",
        "\n",
        "# conver to categoral data by convertin data to intergers\n",
        "x = x.astype(int)\n",
        "\n",
        "# two features with highest chi-squared statistic are selected\n",
        "chi2_features = SelectKBest(chi2, k=2)\n",
        "x_kbeast_features = chi2_features.fit_transform(x, y)\n",
        "\n",
        "print(f'original feature number: {x.shape[1]}')\n",
        "print(f'reduced feature number: {x_kbeast_features.shape[1]}')"
      ],
      "metadata": {
        "colab": {
          "base_uri": "https://localhost:8080/"
        },
        "id": "T3sxHkXP2VvL",
        "outputId": "fb6f33e0-33a0-4179-ea59-55a2968f6372"
      },
      "execution_count": 32,
      "outputs": [
        {
          "output_type": "stream",
          "name": "stdout",
          "text": [
            "original feature number: 4\n",
            "reduced feature number: 2\n"
          ]
        }
      ]
    },
    {
      "cell_type": "markdown",
      "source": [
        "### Feature Importance\n",
        "\n",
        "Feature importance memberikan skor setiap fitur pada sebuah data. Skor yang tinggi menandakann paling penting atau paling relevan dengan fitur target."
      ],
      "metadata": {
        "id": "Xqmvdih6Hc9K"
      }
    },
    {
      "cell_type": "code",
      "source": [
        "# importance features\n",
        "\n",
        "# load libraries\n",
        "from sklearn.datasets import load_iris\n",
        "import matplotlib.pyplot as plt\n",
        "from sklearn.ensemble import ExtraTreesClassifier\n",
        "\n",
        "# load iris data\n",
        "iris_dataset = load_iris()\n",
        "\n",
        "# create feature and target\n",
        "x = iris_dataset.data\n",
        "y = iris_dataset.target\n",
        "\n",
        "# conver to categorial data by converting data to integers\n",
        "x = x.astype(int)\n",
        "\n",
        "# building the model\n",
        "extra_tree_forest = ExtraTreesClassifier(n_estimators=5, criterion='entropy', max_features=2)\n",
        "\n",
        "# training the model\n",
        "extra_tree_forest.fit(x, y)\n",
        "\n",
        "# computing the importance each feature\n",
        "feature_importance = extra_tree_forest.feature_importances_\n",
        "\n",
        "# normalizing the individual importances\n",
        "feature_importance_normalized = np.std([tree.feature_importances_ for tree in extra_tree_forest.estimators_], axis=0)\n",
        "\n",
        "# ploting a bar graph to compare models\n",
        "plt.bar(iris_dataset.feature_names, feature_importance_normalized)\n",
        "plt.xlabel('feature labels')\n",
        "plt.ylabel('feature importance')\n",
        "plt.title('comparison of different feature importances')\n",
        "plt.show()"
      ],
      "metadata": {
        "colab": {
          "base_uri": "https://localhost:8080/",
          "height": 472
        },
        "id": "I_9t1aUL6R97",
        "outputId": "679fa30f-57ab-4648-dd12-4e07165340ed"
      },
      "execution_count": 35,
      "outputs": [
        {
          "output_type": "display_data",
          "data": {
            "text/plain": [
              "<Figure size 640x480 with 1 Axes>"
            ],
            "image/png": "[encoded data removed]"
          },
          "metadata": {}
        }
      ]
    },
    {
      "cell_type": "markdown",
      "source": [
        "### Correlation Matrix Heatmap\n",
        "Metode ini akan menampilakn korelasi daripada sebuah fitur yang memiliki relasi dengan yang lainnya atau target fiturnya.\n",
        "\n",
        "Korelasi bisa menjadi positif atau negatif"
      ],
      "metadata": {
        "id": "BiBs6jlnH6wp"
      }
    },
    {
      "cell_type": "code",
      "source": [
        "# correlation matrix heatmap\n",
        "\n",
        "# laod libraries\n",
        "from sklearn.datasets import load_iris\n",
        "import matplotlib.pyplot as plt\n",
        "import seaborn as sns\n",
        "import pandas as pd\n",
        "\n",
        "# load boston data\n",
        "iris_dataset = load_iris()\n",
        "\n",
        "# create a data frame for boston data\n",
        "iris = pd.DataFrame(iris_dataset.data, columns=iris_dataset.feature_names)\n",
        "\n",
        "# ploting the heatmap for correlation\n",
        "ax = sns.heatmap(iris.corr().round(2), annot=True)"
      ],
      "metadata": {
        "colab": {
          "base_uri": "https://localhost:8080/",
          "height": 543
        },
        "id": "rm1AoVUl8SHc",
        "outputId": "31f0ffb8-f6f9-420c-8e18-048194b2d967"
      },
      "execution_count": 40,
      "outputs": [
        {
          "output_type": "display_data",
          "data": {
            "text/plain": [
              "<Figure size 640x480 with 2 Axes>"
            ],
            "image/png": "[encoded data removed]"
          },
          "metadata": {}
        }
      ]
    }
  ]
}